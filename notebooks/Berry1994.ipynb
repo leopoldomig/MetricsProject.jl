{
 "cells": [
  {
   "cell_type": "markdown",
   "metadata": {},
   "source": [
    "## Preliminaries\n",
    "\n",
    "Activate the project environment:"
   ]
  },
  {
   "cell_type": "code",
   "execution_count": 23,
   "metadata": {},
   "outputs": [
    {
     "data": {
      "text/plain": [
       "(\"v0.9.0\", \"/home/jupyter/ECON628_local/MetricProject_test/.projects/QuantEconLectureAllPackages-v0.9.0\")"
      ]
     },
     "execution_count": 23,
     "metadata": {},
     "output_type": "execute_result"
    }
   ],
   "source": [
    "using InstantiateFromURL\n",
    "activate_github(\"QuantEcon/QuantEconLectureAllPackages\", tag = \"v0.9.0\") # activate the QuantEcon environment"
   ]
  },
  {
   "cell_type": "code",
   "execution_count": 24,
   "metadata": {},
   "outputs": [],
   "source": [
    "using LinearAlgebra, Statistics, Compat, Parameters, NLsolve"
   ]
  },
  {
   "cell_type": "markdown",
   "metadata": {},
   "source": [
    "# Berry 1994\n",
    "\n",
    "In this exercise I have to write a code that executes the Monte Carlo simulations in\n",
    "\n",
    "Berry, Steven, (1994), Estimating Discrete-Choice Models of Product Differentiation, RAND Journal of Economics, 25, issue 2, p. 242-262.\n",
    "\n",
    "Berry models the demand side (using a static discrete choice model) and the supply side. \n",
    "\n",
    "The author consider an economy with 500 duopolistic markets in which each firm produces one single product with different qualities. The demand will be modeled as a discrete choice problem. In the code below, first I generate the data as the author does. To do so, I have to compute the equilibrium prices solving a non-linear system of equations for each market. After this, following the author, I take the observables of the model and estimate the demand parameters using the IV procedure proposed in the paper. We also estimate the parameters using an OLS to compare. At last, we repeat these steps 100 times. As a result we have a table with the asymptotic mean and standard deviations of the estimators."
   ]
  },
  {
   "cell_type": "code",
   "execution_count": 25,
   "metadata": {},
   "outputs": [
    {
     "data": {
      "text/plain": [
       "Berry1994 (generic function with 1 method)"
      ]
     },
     "execution_count": 25,
     "metadata": {},
     "output_type": "execute_result"
    }
   ],
   "source": [
    "function Berry1994(R, repNum;\n",
    "                     βo = 5.00,\n",
    "                     βx = 2.00,\n",
    "                     α  = 1.00,\n",
    "                     γo = 1.00,\n",
    "                     γx = 0.50,\n",
    "                     γw = 0.25,\n",
    "                     σc = 0.25,\n",
    "                     σw = 0.25,\n",
    "                     σd = 3.00)\n",
    "\n",
    "#Let's set up the remaining parameters\n",
    "J  = 2\n",
    "\n",
    "# Let's randomly draw observable and unobservable characteristics that affect\n",
    "# demand: xₘⱼ and ξₘⱼ\n",
    "xₘⱼ =  randn(R, J, repNum);\n",
    "ξₘⱼ =  randn(R, J, repNum);\n",
    "\n",
    "# Let's randomly draw observable and unobservable characteristics that affect\n",
    "# marginal cost: wₘⱼ and ωₘⱼ\n",
    "wₘⱼ =  randn(R, J, repNum);\n",
    "ωₘⱼ =  randn(R, J, repNum);\n",
    "\n",
    "# Let's compute the marginal cost (cₘⱼ) for each market m and product/firm j\n",
    "# as Berry does:\n",
    "cₘⱼ = exp.( γo.*ones(R,J,repNum) .+ γx.*xₘⱼ + σc.*ξₘⱼ .+ γw.*wₘⱼ .+ σw.*ωₘⱼ );\n",
    "\n",
    "# Let's compute the equilibrium prices (pₘⱼ) and market share (sₘⱼ)\n",
    "function eq_p_sh( xₘ, ξₘ, cₘ, sₘ)\n",
    "    p = cₘ .+ ( α.*(1.0.-sₘ)).^(-1);\n",
    "    v = βo .+ βx.*xₘ .+ σd.*ξₘ .- α.*p;\n",
    "    F = (exp.(v))./(1.0 .+ sum(exp.(v)));\n",
    "    return F\n",
    "end\n",
    "\n",
    "s₀ = [0.5, 0.5];\n",
    "sₘⱼ = similar(xₘⱼ);\n",
    "pₘⱼ = similar(xₘⱼ);\n",
    "\n",
    "for k = 1:repNum\n",
    "    for r = 1:R\n",
    "        sol = nlsolve(y -> eq_p_sh( xₘⱼ[r,:,k], ξₘⱼ[r,:,k], cₘⱼ[r,:,k], y)-y, s₀)\n",
    "\n",
    "        s_eq = sol.zero\n",
    "\n",
    "        if ( sol.f_converged == false || sum(s_eq .< 0)>0 || sum(s_eq)>1 )\n",
    "            s_eq = [NaN , NaN];\n",
    "        end\n",
    "\n",
    "        p_eq = cₘⱼ[r,:,k] .+ (α.*(1.0 .- s_eq) ).^(-1);\n",
    "\n",
    "        sₘⱼ[r,:,k] = s_eq;\n",
    "        pₘⱼ[r,:,k] = p_eq;\n",
    "\n",
    "    end\n",
    "end\n",
    "\n",
    "@assert sum(isnan.(sₘⱼ)) == 0\n",
    "\n",
    "# Let's calculate the mean utility of product j: (δₘⱼ)\n",
    "δₘⱼ = similar(xₘⱼ);\n",
    "for k = 1:repNum\n",
    "for r=1:R\n",
    "    δₘⱼ[r,1,k] = log(sₘⱼ[r,1,k])-log(1-sₘⱼ[r,1,k]-sₘⱼ[r,2,k]);\n",
    "    δₘⱼ[r,2,k] = log(sₘⱼ[r,2,k])-log(1-sₘⱼ[r,1,k]-sₘⱼ[r,2,k]);\n",
    "end\n",
    "end\n",
    "\n",
    "# Let's compute the OLS estimates\n",
    "θhatᵒˡˢ = zeros(3,repNum);\n",
    "\n",
    "for k = 1:repNum\n",
    "    y = reshape(δₘⱼ[:,:,k],R*J,1);\n",
    "    X = [ones(R*J,1)  reshape(xₘⱼ[:,:,k],R*J,1) reshape(pₘⱼ[:,:,k],R*J,1) ];\n",
    "    θhatᵒˡˢ[:,k] = inv(X'*X)*(X'*y);\n",
    "end\n",
    "\n",
    "# Taking the average and the standard deviation of the simulations\n",
    "m_θhatᵒˡˢ  = mean(θhatᵒˡˢ,dims=2);\n",
    "sd_θhatᵒˡˢ = std(θhatᵒˡˢ,dims=2);\n",
    "\n",
    "# Let's compute the IV estimates\n",
    "θhatⁱᵛ = zeros(3,repNum);\n",
    "\n",
    "aux_xₘⱼ = similar(xₘⱼ);\n",
    "aux_xₘⱼ[:,1,:] = xₘⱼ[:,2,:];\n",
    "aux_xₘⱼ[:,2,:] = xₘⱼ[:,1,:];\n",
    "\n",
    "for k = 1:repNum\n",
    "    y = reshape(δₘⱼ[:,:,k],R*J,1);\n",
    "    X = [ones(R*J,1)  reshape(xₘⱼ[:,:,k],R*J,1)  reshape(pₘⱼ[:,:,k],R*J,1) ];\n",
    "    Z = [ones(R*J,1)  reshape(xₘⱼ[:,:,k],R*J,1)  reshape(wₘⱼ[:,:,k],R*J,1)  reshape(aux_xₘⱼ[:,:,k],R*J,1) ];\n",
    "    Xhat = Z*inv(Z'*Z)*(Z'*X);\n",
    "    θhatⁱᵛ[:,k] = inv(Xhat'*Xhat)*(Xhat'*y);\n",
    "end\n",
    "\n",
    "# Taking the average and the standard deviation of the simulations\n",
    "m_θhatⁱᵛ  = mean(θhatⁱᵛ, dims=2);\n",
    "sd_θhatⁱᵛ = std(θhatⁱᵛ, dims=2);\n",
    "\n",
    "# Organizing the outputs\n",
    "θ = [βo ; βx ; -α];\n",
    "comparison = (θ = θ, m_θhatᵒˡˢ= m_θhatᵒˡˢ,  sd_θhatᵒˡˢ=sd_θhatᵒˡˢ,  m_θhatⁱᵛ= m_θhatⁱᵛ,  sd_θhatⁱᵛ= sd_θhatⁱᵛ);\n",
    "data = ( xₘⱼ=xₘⱼ, ξₘⱼ=ξₘⱼ, wₘⱼ=wₘⱼ, ωₘⱼ=ωₘⱼ, cₘⱼ=cₘⱼ, sₘⱼ=sₘⱼ, pₘⱼ=pₘⱼ, δₘⱼ=δₘⱼ );\n",
    "params = (βo = βo, βx = βx, α  = α, γo = γo, γx = γx, γw = γw, σc = σc, σw = σw, σd = σd);\n",
    "output = (comparison = comparison, data = data, params=params);\n",
    "\n",
    "return output\n",
    "\n",
    "end"
   ]
  },
  {
   "cell_type": "markdown",
   "metadata": {},
   "source": [
    "Let's compute the results for $\\sigma_d = 1.00$"
   ]
  },
  {
   "cell_type": "code",
   "execution_count": 26,
   "metadata": {},
   "outputs": [],
   "source": [
    "out1 = Berry1994(500, 100, σd = 1.00);"
   ]
  },
  {
   "cell_type": "code",
   "execution_count": 27,
   "metadata": {},
   "outputs": [
    {
     "data": {
      "text/plain": [
       "3×5 Array{Float64,2}:\n",
       "  5.0   3.15465   0.228399    4.95999   0.260343 \n",
       "  2.0   1.32022   0.0801948   1.98226   0.101079 \n",
       " -1.0  -0.632467  0.0471027  -0.991368  0.0516653"
      ]
     },
     "execution_count": 27,
     "metadata": {},
     "output_type": "execute_result"
    }
   ],
   "source": [
    "θ = [out1.params.βo ; out1.params.βx ; -out1.params.α]\n",
    "[θ out1.comparison.m_θhatᵒˡˢ out1.comparison.sd_θhatᵒˡˢ out1.comparison.m_θhatⁱᵛ out1.comparison.sd_θhatⁱᵛ]"
   ]
  },
  {
   "cell_type": "markdown",
   "metadata": {},
   "source": [
    "Let's compute the results for $\\sigma_d = 3.00$"
   ]
  },
  {
   "cell_type": "code",
   "execution_count": 31,
   "metadata": {},
   "outputs": [],
   "source": [
    "out2 = Berry1994(500, 100);"
   ]
  },
  {
   "cell_type": "code",
   "execution_count": 29,
   "metadata": {},
   "outputs": [
    {
     "data": {
      "text/plain": [
       "3×5 Array{Float64,2}:\n",
       "  5.0  -0.808576   0.383643    5.01537   0.875525\n",
       "  2.0   0.0136276  0.0996369   2.00633   0.314055\n",
       " -1.0   0.115295   0.0754601  -0.999687  0.166332"
      ]
     },
     "execution_count": 29,
     "metadata": {},
     "output_type": "execute_result"
    }
   ],
   "source": [
    "[θ out2.comparison.m_θhatᵒˡˢ out2.comparison.sd_θhatᵒˡˢ out2.comparison.m_θhatⁱᵛ out2.comparison.sd_θhatⁱᵛ]"
   ]
  },
  {
   "cell_type": "markdown",
   "metadata": {},
   "source": [
    "We could replicate the IV estimates, that are consistent as expected. Also, as expected, the OLS estimates are incosistent with the bias being worst the larger $\\sigma_$"
   ]
  }
 ],
 "metadata": {
  "filename": "introduction_to_types.rst",
  "kernelspec": {
   "display_name": "Julia 1.0.1",
   "language": "julia",
   "name": "julia-1.0"
  },
  "language_info": {
   "file_extension": ".jl",
   "mimetype": "application/julia",
   "name": "julia",
   "version": "1.0.1"
  },
  "title": "Introduction to Types and Generic Programming"
 },
 "nbformat": 4,
 "nbformat_minor": 2
}
